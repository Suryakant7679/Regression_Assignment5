{
 "cells": [
  {
   "cell_type": "markdown",
   "id": "95f47670-eee1-4e45-aa96-a54af3c49b06",
   "metadata": {},
   "source": [
    "Q1. What are the key steps involved in building an end-to-end web application, from development to\n",
    "deployment on the cloud?"
   ]
  },
  {
   "cell_type": "markdown",
   "id": "ff11ebc1-8029-4d4b-b077-99b12a9d423d",
   "metadata": {},
   "source": [
    "The different stages of the web development process\n",
    "\n",
    "Analysis. ...\n",
    "\n",
    "Design. ...\n",
    "\n",
    "Development. ...\n",
    "\n",
    "Testing & review. ...\n",
    "\n",
    "Deployment. ...\n",
    "\n",
    "Maintenance. ...\n",
    "\n",
    "Front-end tech stack for web development. ...\n",
    "\n",
    "Back-end tech stack for web development."
   ]
  },
  {
   "cell_type": "markdown",
   "id": "b07b24ed-f85d-4934-bd9e-fb7903b488cb",
   "metadata": {},
   "source": [
    "Q2. Explain the difference between traditional web hosting and cloud hosting."
   ]
  },
  {
   "cell_type": "markdown",
   "id": "48c744a9-08b0-4d80-8c51-16896793dfa4",
   "metadata": {},
   "source": [
    "Cloud hosting offers a level of scalability that traditional hosting can't. Cloud hosting companies provide virtual space on an on-demand, as-needed basis. Instead of paying for a set amount of space upfront on a single server, the user pays as they go for what they actually use.\n",
    "\n",
    "Cloud servers can be configured to provide levels of performance, security and control similar to those of a dedicated server. But instead of being hosted on physical hardware that's solely used by you, they reside in a shared “virtualized” environment that's managed by your cloud hosting provider."
   ]
  },
  {
   "cell_type": "markdown",
   "id": "30e7f478-d592-4397-afeb-b3981499496e",
   "metadata": {},
   "source": [
    "Q3. How do you choose the right cloud provider for your application deployment, and what factors\n",
    "should you consider?"
   ]
  },
  {
   "cell_type": "markdown",
   "id": "c932aba2-a926-4fc6-bbd7-8de7d9e3b070",
   "metadata": {},
   "source": [
    "By considring  reliability, scalability, security, pricing, and support factors, you can make an informed choice that aligns with your organization's needs and goals. Remember to assess the provider's industry expertise, reputation, and future roadmap to ensure a long-term partnership that drives innovation and growth.\n",
    "\n",
    "Certifications & Standards.\r\n",
    "\n",
    "Technologies & Service Roadmap.\n",
    "\r\n",
    "Data Security, Data Governance and Business policies\n",
    ".\r\n",
    "Service Dependencies & Partnership\n",
    "s.\r\n",
    "Contracts, Commercials & SL\n",
    "As.\r\n",
    "Reliability & Performance."
   ]
  },
  {
   "cell_type": "markdown",
   "id": "5ddbe305-b570-4c37-b99b-222f5e1ba094",
   "metadata": {},
   "source": [
    "Q4. How do you design and build a responsive user interface for your web application, and what are\n",
    "some best practices to follow?"
   ]
  },
  {
   "cell_type": "markdown",
   "id": "ea96668f-df49-4569-9cd8-d6e115c9d775",
   "metadata": {},
   "source": [
    "Eliminate Friction. ...\n",
    "\n",
    "Design for Thumbs. ...\n",
    "\n",
    "Take Advantage of Mobile Devices' Native Hardware. ...\n",
    "\n",
    "Make Layouts Fluid/Adaptive by Default. ...\n",
    "\n",
    "\n",
    "Don't Forget About Landscape Orientation. ...\n",
    "\n",
    "Remember, Typography Can Be Responsive Too. ...\n",
    "\n",
    "Lazy Load Non-vital Images and Videos. ...\n",
    "\n",
    "Conditional Loading"
   ]
  },
  {
   "cell_type": "markdown",
   "id": "b168cca0-74c9-42e4-8d70-0c5808cb4d38",
   "metadata": {},
   "source": [
    "Q5. How do you integrate the machine learning model with the user interface for the Algerian Forest Fires\n",
    "project(which we discussed in class), and what APIs or libraries can you use for this purpose?"
   ]
  },
  {
   "cell_type": "markdown",
   "id": "a96d4661-7e1b-4ed3-8a97-0cdf0c9058d9",
   "metadata": {},
   "source": [
    "Ans:- We use sklearn library for this purpose \n",
    "Sk learn library provide all features required for training regression algo and for calculating Accurecy.\n",
    "\n",
    "we use Aws cloud \n",
    "Elastic BeanStalk"
   ]
  },
  {
   "cell_type": "code",
   "execution_count": null,
   "id": "8df48361-87a5-4866-8b7b-54d0dbe2aa2b",
   "metadata": {},
   "outputs": [],
   "source": []
  }
 ],
 "metadata": {
  "kernelspec": {
   "display_name": "Python 3 (ipykernel)",
   "language": "python",
   "name": "python3"
  },
  "language_info": {
   "codemirror_mode": {
    "name": "ipython",
    "version": 3
   },
   "file_extension": ".py",
   "mimetype": "text/x-python",
   "name": "python",
   "nbconvert_exporter": "python",
   "pygments_lexer": "ipython3",
   "version": "3.10.0"
  }
 },
 "nbformat": 4,
 "nbformat_minor": 5
}
